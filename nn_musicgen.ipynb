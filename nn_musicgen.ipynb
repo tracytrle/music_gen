{
 "cells": [
  {
   "cell_type": "markdown",
   "id": "a6ea9e8b-72dc-4eee-83b6-6948b431946b",
   "metadata": {},
   "source": [
    "# CS 324 Final Project: MUSIC GENERATION "
   ]
  },
  {
   "cell_type": "markdown",
   "id": "f67f2880-f1e1-40da-83af-4147b90951ab",
   "metadata": {},
   "source": [
    "Enter your name and EID in the following block:"
   ]
  },
  {
   "cell_type": "markdown",
   "id": "3095c719-7cfa-4470-9eed-622e484d2668",
   "metadata": {},
   "source": [
    "Aleric Hunziker(afj697)"
   ]
  },
  {
   "cell_type": "markdown",
   "id": "9e24a1c5-02ca-4eb8-8930-6d650836e1f5",
   "metadata": {},
   "source": [
    "Jamie Wong (jw55449)"
   ]
  },
  {
   "cell_type": "markdown",
   "id": "b1b243a1-9195-45ff-9daa-9a708d2b9ab8",
   "metadata": {},
   "source": [
    "Truc Tran (ttt2436)"
   ]
  },
  {
   "cell_type": "markdown",
   "id": "a586ddcf-a537-4793-88b6-624c23548ec4",
   "metadata": {},
   "source": [
    "# Step 1: Preprocessing Data"
   ]
  },
  {
   "cell_type": "code",
   "execution_count": 43,
   "id": "84b961c1-d013-40d2-95b8-b6cf86b25444",
   "metadata": {},
   "outputs": [],
   "source": [
    "import torch\n",
    "from torch import nn\n",
    "import numpy as np\n",
    "import scipy.signal\n",
    "import pandas as pd\n",
    "\n",
    "from tensorflow.keras.utils import to_categorical\n",
    "from tensorflow.keras.models import Sequential\n",
    "from tensorflow.keras.callbacks import ModelCheckpoint\n",
    "from tensorflow.keras.layers import Dense, Dropout, LSTM\n",
    "import pickle\n",
    "import glob \n",
    "%matplotlib inline\n",
    "import matplotlib.pyplot as plt\n",
    "%config InlineBackend.figure_format='retina'\n",
    "import music21\n",
    "import tensorflow as tf\n",
    "# for making midi file\n",
    "import mido\n",
    "from mido import MidiFile, MidiTrack, Message\n",
    "from sklearn.preprocessing import MinMaxScaler, LabelEncoder"
   ]
  },
  {
   "cell_type": "code",
   "execution_count": 44,
   "id": "78d8e2b5-830f-4d52-b5cc-d275d09f129b",
   "metadata": {},
   "outputs": [
    {
     "name": "stderr",
     "output_type": "stream",
     "text": [
      "/Users/tructran/.pyenv/versions/3.11.5/lib/python3.11/site-packages/music21/midi/translate.py:874: TranslateWarning: Unable to determine instrument from <music21.midi.MidiEvent SEQUENCE_TRACK_NAME, track=5, channel=None, data=b'Copyright \\xa9 2006 by Bernd Krueger'>; getting generic Instrument\n",
      "  warnings.warn(\n",
      "/Users/tructran/.pyenv/versions/3.11.5/lib/python3.11/site-packages/music21/stream/base.py:3694: Music21DeprecationWarning: .flat is deprecated.  Call .flatten() instead\n",
      "  return self.iter().getElementsByClass(classFilterList)\n",
      "/Users/tructran/.pyenv/versions/3.11.5/lib/python3.11/site-packages/music21/midi/translate.py:874: TranslateWarning: Unable to determine instrument from <music21.midi.MidiEvent SEQUENCE_TRACK_NAME, track=5, channel=None, data=b'Copyright \\xa9 2006 by Bernd Kr\\xfcger'>; getting generic Instrument\n",
      "  warnings.warn(\n",
      "/Users/tructran/.pyenv/versions/3.11.5/lib/python3.11/site-packages/music21/midi/translate.py:874: TranslateWarning: Unable to determine instrument from <music21.midi.MidiEvent SEQUENCE_TRACK_NAME, track=5, channel=None, data=b'Copyright \\xa9 1997 by Bernd Kr\\xfcger'>; getting generic Instrument\n",
      "  warnings.warn(\n",
      "/Users/tructran/.pyenv/versions/3.11.5/lib/python3.11/site-packages/music21/midi/translate.py:874: TranslateWarning: Unable to determine instrument from <music21.midi.MidiEvent SEQUENCE_TRACK_NAME, track=5, channel=None, data=b'Copyright \\xa9 2005 by Bernd Kr\\xfcger'>; getting generic Instrument\n",
      "  warnings.warn(\n"
     ]
    },
    {
     "name": "stdout",
     "output_type": "stream",
     "text": [
      "Length of collections:  68532\n",
      "Sample data from collections DataFrame:\n",
      "  notes starts ends steps  velocities durations\n",
      "0   B-4    0.0  2.0   0.0          50       2.0\n",
      "1   B-3    0.0  2.0   0.0          40       2.0\n",
      "2    F4    2.0  3.0   2.0          45       1.0\n",
      "3    F3    2.0  3.0   0.0          36       1.0\n",
      "4    D4    3.0  5.0   1.0          50       2.0\n",
      "\n",
      "First 10 Notes:  ['B-4', 'B-3', 'F4', 'F3', 'D4', 'D3', 'F4', 'F3', 'B-4', 'B-3']\n"
     ]
    }
   ],
   "source": [
    "\n",
    "# Read through a directory of classical piano MIDI files, extract and print the note pitches and chord structures\n",
    "from music21 import converter, note, chord, instrument\n",
    "\n",
    "# Store parsed MIDI files and extracted data\n",
    "midis = []\n",
    "collections = {\n",
    "    'notes': [],\n",
    "    'starts': [],\n",
    "    'ends' : [],\n",
    "    'steps': [],\n",
    "    'velocities':[],\n",
    "    'durations': []\n",
    "}\n",
    "\n",
    "for file in glob.glob(\"mozart/*.mid\"):\n",
    "    try:\n",
    "        # Parses the MIDI file into a music21 stream.\n",
    "        midi = converter.parse(file)\n",
    "        midis.append(midi)\n",
    "        notes_to_parse = midi.flat.notes\n",
    "        prev_start = notes_to_parse[0].offset if len(notes_to_parse) > 0 else 0\n",
    "\n",
    "        for element in notes_to_parse:\n",
    "            if isinstance(element, note.Note) or isinstance(element, chord.Chord):\n",
    "                if isinstance(element, note.Note):\n",
    "                    elements = [element]\n",
    "                else:  # It's a chord\n",
    "                    elements = element.notes\n",
    "\n",
    "                for single_note in elements:\n",
    "                    pitch = str(single_note.pitch) if isinstance(single_note, note.Note) else '.'.join(str(n) for n in single_note.normalOrder)\n",
    "                    duration = single_note.duration.quarterLength\n",
    "                    velocity = single_note.volume.velocity if single_note.volume.velocity is not None else \"N/A\"\n",
    "                    start = single_note.offset\n",
    "                    end = single_note.offset + single_note.duration.quarterLength\n",
    "\n",
    "                    collections['notes'].append(pitch)\n",
    "                    collections['starts'].append(start)\n",
    "                    collections['ends'].append(end)\n",
    "                    collections['steps'].append(start - prev_start)\n",
    "                    collections['velocities'].append(velocity)\n",
    "                    collections['durations'].append(duration)\n",
    "\n",
    "                    prev_start = start\n",
    "\n",
    "    except Exception as e:\n",
    "        print(f\"Failed to process {file}: {str(e)}\")\n",
    "\n",
    "# Convert collections to a DataFrame\n",
    "df_collections = pd.DataFrame(collections)\n",
    "\n",
    "print(\"Length of collections: \", len(df_collections))\n",
    "print(\"Sample data from collections DataFrame:\")\n",
    "print(df_collections.head())\n",
    "\n",
    "# Additional prints to check data extraction\n",
    "print(\"\\nFirst 10 Notes: \", collections['notes'][:10])\n"
   ]
  },
  {
   "cell_type": "code",
   "execution_count": 45,
   "id": "e649b48a-727c-4869-948c-714199524788",
   "metadata": {},
   "outputs": [
    {
     "name": "stdout",
     "output_type": "stream",
     "text": [
      "feature:  [[0.0 2.0 0.0 50 2.0]\n",
      " [0.0 2.0 0.0 40 2.0]\n",
      " [2.0 3.0 2.0 45 1.0]\n",
      " ...\n",
      " [0.0 1.0 0.0 72 1.0]\n",
      " [0.0 1.0 0.0 72 1.0]\n",
      " [0.0 1.0 0.0 85 1.0]]\n",
      "feature shape:  (68532, 5)\n",
      "input shape: (68500, 32, 67)\n",
      "output shape: (68500, 62)\n"
     ]
    }
   ],
   "source": [
    "\n",
    "# Convert data dictionary to structured arrays for processing\n",
    "features = np.column_stack([df_collections[key] for key in df_collections.keys() if key != 'notes'])\n",
    "print(\"feature: \", features)\n",
    "print(\"feature shape: \", features.shape)\n",
    "\n",
    "\n",
    "\n",
    "# Normalize numerical data\n",
    "scaler = MinMaxScaler()\n",
    "features_scaled = scaler.fit_transform(features)\n",
    "\n",
    "# Encode notes\n",
    "label_encoder = LabelEncoder()\n",
    "notes_encoded = label_encoder.fit_transform(df_collections['notes'])\n",
    "notes_categorical = to_categorical(notes_encoded)\n",
    "# print(\"notes_categorical: \", notes_categorical[:10])\n",
    "# print(\"label_encoded: \", notes_encoded)\n",
    "\n",
    "# Create input sequences for LSTM\n",
    "sequence_length = 32\n",
    "input_data = []\n",
    "output_data = []\n",
    "\n",
    "for i in range(len(notes_categorical) - sequence_length):\n",
    "    input_data.append(np.hstack((features_scaled[i:i+sequence_length], notes_categorical[i:i+sequence_length])))\n",
    "    output_data.append(notes_categorical[i + sequence_length])\n",
    "\n",
    "input_data = np.array(input_data)\n",
    "output_data = np.array(output_data)\n",
    "print(\"input shape:\", input_data.shape)\n",
    "print(\"output shape:\", output_data.shape)\n",
    "# print(\"input: \", input_data)\n",
    "# print(\"output: \", output_data)\n"
   ]
  },
  {
   "cell_type": "code",
   "execution_count": 46,
   "id": "397f9535-92c4-4197-a5e6-e5fdf73ed197",
   "metadata": {},
   "outputs": [
    {
     "name": "stderr",
     "output_type": "stream",
     "text": [
      "/Users/tructran/.pyenv/versions/3.11.5/lib/python3.11/site-packages/keras/src/layers/rnn/rnn.py:204: UserWarning: Do not pass an `input_shape`/`input_dim` argument to a layer. When using Sequential models, prefer using an `Input(shape)` object as the first layer in the model instead.\n",
      "  super().__init__(**kwargs)\n"
     ]
    }
   ],
   "source": [
    "from tensorflow.keras.models import Sequential\n",
    "from tensorflow.keras.layers import LSTM, Dense, Dropout, Input\n",
    "\n",
    "\n",
    "def create_model(input_shape, num_classes):\n",
    "    model = Sequential([\n",
    "        LSTM(256, input_shape=input_shape, return_sequences=True),\n",
    "        Dropout(0.3),\n",
    "        LSTM(128, return_sequences=False),\n",
    "        Dropout(0.3),\n",
    "        Dense(num_classes, activation='softmax')\n",
    "    ])\n",
    "\n",
    "    # Set the learning rate\n",
    "    # lr_schedule = ExponentialDecay(\n",
    "    #     initial_learning_rate=0.01,\n",
    "    #     decay_steps=10000,\n",
    "    #     decay_rate=0.9)\n",
    "\n",
    "    # optimizer = tf.keras.optimizers.Adam(learning_rate=lr_schedule)\n",
    "\n",
    "    learning_rate = 0.001\n",
    "    optimizer = tf.keras.optimizers.Adam(learning_rate=learning_rate)\n",
    "    \n",
    "    # Compile the model with the optimizer, loss function, and metrics\n",
    "    model.compile(optimizer=optimizer, loss='categorical_crossentropy', metrics=['accuracy'])\n",
    "    # model.compile(loss='categorical_crossentropy', optimizer='adam', metrics=['accuracy'])\n",
    "    return model\n",
    "\n",
    "# Model instantiation\n",
    "model = create_model(input_data.shape[1:], len(label_encoder.classes_))\n",
    "\n",
    "\n",
    "# Saving the trained LabelEncoder\n",
    "with open('label_encoder.pkl', 'wb') as f:\n",
    "    pickle.dump(label_encoder, f)"
   ]
  },
  {
   "cell_type": "code",
   "execution_count": 47,
   "id": "bd1e815a-6deb-4726-be05-0d7c46a1361a",
   "metadata": {},
   "outputs": [
    {
     "name": "stdout",
     "output_type": "stream",
     "text": [
      "Epoch 1/45\n",
      "\u001b[1m1071/1071\u001b[0m \u001b[32m━━━━━━━━━━━━━━━━━━━━\u001b[0m\u001b[37m\u001b[0m \u001b[1m103s\u001b[0m 95ms/step - accuracy: 0.0791 - loss: 3.5006\n",
      "Epoch 2/45\n",
      "\u001b[1m1071/1071\u001b[0m \u001b[32m━━━━━━━━━━━━━━━━━━━━\u001b[0m\u001b[37m\u001b[0m \u001b[1m103s\u001b[0m 96ms/step - accuracy: 0.1385 - loss: 3.0983\n",
      "Epoch 3/45\n",
      "\u001b[1m1071/1071\u001b[0m \u001b[32m━━━━━━━━━━━━━━━━━━━━\u001b[0m\u001b[37m\u001b[0m \u001b[1m101s\u001b[0m 94ms/step - accuracy: 0.1647 - loss: 2.9492\n",
      "Epoch 4/45\n",
      "\u001b[1m1071/1071\u001b[0m \u001b[32m━━━━━━━━━━━━━━━━━━━━\u001b[0m\u001b[37m\u001b[0m \u001b[1m102s\u001b[0m 95ms/step - accuracy: 0.2041 - loss: 2.8031\n",
      "Epoch 5/45\n",
      "\u001b[1m1071/1071\u001b[0m \u001b[32m━━━━━━━━━━━━━━━━━━━━\u001b[0m\u001b[37m\u001b[0m \u001b[1m106s\u001b[0m 99ms/step - accuracy: 0.2502 - loss: 2.6316\n",
      "Epoch 6/45\n",
      "\u001b[1m1071/1071\u001b[0m \u001b[32m━━━━━━━━━━━━━━━━━━━━\u001b[0m\u001b[37m\u001b[0m \u001b[1m108s\u001b[0m 101ms/step - accuracy: 0.2905 - loss: 2.4736\n",
      "Epoch 7/45\n",
      "\u001b[1m1071/1071\u001b[0m \u001b[32m━━━━━━━━━━━━━━━━━━━━\u001b[0m\u001b[37m\u001b[0m \u001b[1m104s\u001b[0m 97ms/step - accuracy: 0.3331 - loss: 2.3156\n",
      "Epoch 8/45\n",
      "\u001b[1m1071/1071\u001b[0m \u001b[32m━━━━━━━━━━━━━━━━━━━━\u001b[0m\u001b[37m\u001b[0m \u001b[1m104s\u001b[0m 97ms/step - accuracy: 0.3815 - loss: 2.1442\n",
      "Epoch 9/45\n",
      "\u001b[1m1071/1071\u001b[0m \u001b[32m━━━━━━━━━━━━━━━━━━━━\u001b[0m\u001b[37m\u001b[0m \u001b[1m98s\u001b[0m 92ms/step - accuracy: 0.4167 - loss: 2.0099\n",
      "Epoch 10/45\n",
      "\u001b[1m1071/1071\u001b[0m \u001b[32m━━━━━━━━━━━━━━━━━━━━\u001b[0m\u001b[37m\u001b[0m \u001b[1m100s\u001b[0m 93ms/step - accuracy: 0.4488 - loss: 1.8729\n",
      "Epoch 11/45\n",
      "\u001b[1m1071/1071\u001b[0m \u001b[32m━━━━━━━━━━━━━━━━━━━━\u001b[0m\u001b[37m\u001b[0m \u001b[1m98s\u001b[0m 91ms/step - accuracy: 0.4888 - loss: 1.7457\n",
      "Epoch 12/45\n",
      "\u001b[1m1071/1071\u001b[0m \u001b[32m━━━━━━━━━━━━━━━━━━━━\u001b[0m\u001b[37m\u001b[0m \u001b[1m97s\u001b[0m 91ms/step - accuracy: 0.5097 - loss: 1.6601\n",
      "Epoch 13/45\n",
      "\u001b[1m1071/1071\u001b[0m \u001b[32m━━━━━━━━━━━━━━━━━━━━\u001b[0m\u001b[37m\u001b[0m \u001b[1m100s\u001b[0m 93ms/step - accuracy: 0.5426 - loss: 1.5512\n",
      "Epoch 14/45\n",
      "\u001b[1m1071/1071\u001b[0m \u001b[32m━━━━━━━━━━━━━━━━━━━━\u001b[0m\u001b[37m\u001b[0m \u001b[1m99s\u001b[0m 92ms/step - accuracy: 0.5625 - loss: 1.4764\n",
      "Epoch 15/45\n",
      "\u001b[1m1071/1071\u001b[0m \u001b[32m━━━━━━━━━━━━━━━━━━━━\u001b[0m\u001b[37m\u001b[0m \u001b[1m100s\u001b[0m 93ms/step - accuracy: 0.5820 - loss: 1.4068\n",
      "Epoch 16/45\n",
      "\u001b[1m1071/1071\u001b[0m \u001b[32m━━━━━━━━━━━━━━━━━━━━\u001b[0m\u001b[37m\u001b[0m \u001b[1m99s\u001b[0m 93ms/step - accuracy: 0.5999 - loss: 1.3364\n",
      "Epoch 17/45\n",
      "\u001b[1m1071/1071\u001b[0m \u001b[32m━━━━━━━━━━━━━━━━━━━━\u001b[0m\u001b[37m\u001b[0m \u001b[1m100s\u001b[0m 94ms/step - accuracy: 0.6186 - loss: 1.2661\n",
      "Epoch 18/45\n",
      "\u001b[1m1071/1071\u001b[0m \u001b[32m━━━━━━━━━━━━━━━━━━━━\u001b[0m\u001b[37m\u001b[0m \u001b[1m100s\u001b[0m 93ms/step - accuracy: 0.6367 - loss: 1.2057\n",
      "Epoch 19/45\n",
      "\u001b[1m1071/1071\u001b[0m \u001b[32m━━━━━━━━━━━━━━━━━━━━\u001b[0m\u001b[37m\u001b[0m \u001b[1m100s\u001b[0m 93ms/step - accuracy: 0.6508 - loss: 1.1576\n",
      "Epoch 20/45\n",
      "\u001b[1m1071/1071\u001b[0m \u001b[32m━━━━━━━━━━━━━━━━━━━━\u001b[0m\u001b[37m\u001b[0m \u001b[1m102s\u001b[0m 95ms/step - accuracy: 0.6644 - loss: 1.1083\n",
      "Epoch 21/45\n",
      "\u001b[1m1071/1071\u001b[0m \u001b[32m━━━━━━━━━━━━━━━━━━━━\u001b[0m\u001b[37m\u001b[0m \u001b[1m100s\u001b[0m 93ms/step - accuracy: 0.6762 - loss: 1.0616\n",
      "Epoch 22/45\n",
      "\u001b[1m1071/1071\u001b[0m \u001b[32m━━━━━━━━━━━━━━━━━━━━\u001b[0m\u001b[37m\u001b[0m \u001b[1m100s\u001b[0m 93ms/step - accuracy: 0.6880 - loss: 1.0302\n",
      "Epoch 23/45\n",
      "\u001b[1m1071/1071\u001b[0m \u001b[32m━━━━━━━━━━━━━━━━━━━━\u001b[0m\u001b[37m\u001b[0m \u001b[1m102s\u001b[0m 95ms/step - accuracy: 0.6995 - loss: 0.9832\n",
      "Epoch 24/45\n",
      "\u001b[1m1071/1071\u001b[0m \u001b[32m━━━━━━━━━━━━━━━━━━━━\u001b[0m\u001b[37m\u001b[0m \u001b[1m101s\u001b[0m 94ms/step - accuracy: 0.7122 - loss: 0.9444\n",
      "Epoch 25/45\n",
      "\u001b[1m1071/1071\u001b[0m \u001b[32m━━━━━━━━━━━━━━━━━━━━\u001b[0m\u001b[37m\u001b[0m \u001b[1m99s\u001b[0m 93ms/step - accuracy: 0.7161 - loss: 0.9285\n",
      "Epoch 26/45\n",
      "\u001b[1m1071/1071\u001b[0m \u001b[32m━━━━━━━━━━━━━━━━━━━━\u001b[0m\u001b[37m\u001b[0m \u001b[1m101s\u001b[0m 94ms/step - accuracy: 0.7312 - loss: 0.8795\n",
      "Epoch 27/45\n",
      "\u001b[1m1071/1071\u001b[0m \u001b[32m━━━━━━━━━━━━━━━━━━━━\u001b[0m\u001b[37m\u001b[0m \u001b[1m101s\u001b[0m 95ms/step - accuracy: 0.7304 - loss: 0.8689\n",
      "Epoch 28/45\n",
      "\u001b[1m1071/1071\u001b[0m \u001b[32m━━━━━━━━━━━━━━━━━━━━\u001b[0m\u001b[37m\u001b[0m \u001b[1m101s\u001b[0m 94ms/step - accuracy: 0.7393 - loss: 0.8394\n",
      "Epoch 29/45\n",
      "\u001b[1m1071/1071\u001b[0m \u001b[32m━━━━━━━━━━━━━━━━━━━━\u001b[0m\u001b[37m\u001b[0m \u001b[1m100s\u001b[0m 94ms/step - accuracy: 0.7544 - loss: 0.7917\n",
      "Epoch 30/45\n",
      "\u001b[1m1071/1071\u001b[0m \u001b[32m━━━━━━━━━━━━━━━━━━━━\u001b[0m\u001b[37m\u001b[0m \u001b[1m100s\u001b[0m 94ms/step - accuracy: 0.7587 - loss: 0.7816\n",
      "Epoch 31/45\n",
      "\u001b[1m1071/1071\u001b[0m \u001b[32m━━━━━━━━━━━━━━━━━━━━\u001b[0m\u001b[37m\u001b[0m \u001b[1m100s\u001b[0m 94ms/step - accuracy: 0.7603 - loss: 0.7774\n",
      "Epoch 32/45\n",
      "\u001b[1m1071/1071\u001b[0m \u001b[32m━━━━━━━━━━━━━━━━━━━━\u001b[0m\u001b[37m\u001b[0m \u001b[1m101s\u001b[0m 94ms/step - accuracy: 0.7687 - loss: 0.7514\n",
      "Epoch 33/45\n",
      "\u001b[1m1071/1071\u001b[0m \u001b[32m━━━━━━━━━━━━━━━━━━━━\u001b[0m\u001b[37m\u001b[0m \u001b[1m105s\u001b[0m 98ms/step - accuracy: 0.7710 - loss: 0.7331\n",
      "Epoch 34/45\n",
      "\u001b[1m1071/1071\u001b[0m \u001b[32m━━━━━━━━━━━━━━━━━━━━\u001b[0m\u001b[37m\u001b[0m \u001b[1m100s\u001b[0m 93ms/step - accuracy: 0.7758 - loss: 0.7207\n",
      "Epoch 35/45\n",
      "\u001b[1m1071/1071\u001b[0m \u001b[32m━━━━━━━━━━━━━━━━━━━━\u001b[0m\u001b[37m\u001b[0m \u001b[1m101s\u001b[0m 94ms/step - accuracy: 0.7795 - loss: 0.6974\n",
      "Epoch 36/45\n",
      "\u001b[1m1071/1071\u001b[0m \u001b[32m━━━━━━━━━━━━━━━━━━━━\u001b[0m\u001b[37m\u001b[0m \u001b[1m100s\u001b[0m 94ms/step - accuracy: 0.7870 - loss: 0.6804\n",
      "Epoch 37/45\n",
      "\u001b[1m1071/1071\u001b[0m \u001b[32m━━━━━━━━━━━━━━━━━━━━\u001b[0m\u001b[37m\u001b[0m \u001b[1m103s\u001b[0m 96ms/step - accuracy: 0.7880 - loss: 0.6782\n",
      "Epoch 38/45\n",
      "\u001b[1m1071/1071\u001b[0m \u001b[32m━━━━━━━━━━━━━━━━━━━━\u001b[0m\u001b[37m\u001b[0m \u001b[1m106s\u001b[0m 99ms/step - accuracy: 0.7918 - loss: 0.6561\n",
      "Epoch 39/45\n",
      "\u001b[1m1071/1071\u001b[0m \u001b[32m━━━━━━━━━━━━━━━━━━━━\u001b[0m\u001b[37m\u001b[0m \u001b[1m107s\u001b[0m 100ms/step - accuracy: 0.7984 - loss: 0.6445\n",
      "Epoch 40/45\n",
      "\u001b[1m1071/1071\u001b[0m \u001b[32m━━━━━━━━━━━━━━━━━━━━\u001b[0m\u001b[37m\u001b[0m \u001b[1m107s\u001b[0m 100ms/step - accuracy: 0.8011 - loss: 0.6282\n",
      "Epoch 41/45\n",
      "\u001b[1m1071/1071\u001b[0m \u001b[32m━━━━━━━━━━━━━━━━━━━━\u001b[0m\u001b[37m\u001b[0m \u001b[1m104s\u001b[0m 97ms/step - accuracy: 0.8093 - loss: 0.6135\n",
      "Epoch 42/45\n",
      "\u001b[1m1071/1071\u001b[0m \u001b[32m━━━━━━━━━━━━━━━━━━━━\u001b[0m\u001b[37m\u001b[0m \u001b[1m102s\u001b[0m 95ms/step - accuracy: 0.8077 - loss: 0.6054\n",
      "Epoch 43/45\n",
      "\u001b[1m1071/1071\u001b[0m \u001b[32m━━━━━━━━━━━━━━━━━━━━\u001b[0m\u001b[37m\u001b[0m \u001b[1m101s\u001b[0m 95ms/step - accuracy: 0.8132 - loss: 0.5912\n",
      "Epoch 44/45\n",
      "\u001b[1m1071/1071\u001b[0m \u001b[32m━━━━━━━━━━━━━━━━━━━━\u001b[0m\u001b[37m\u001b[0m \u001b[1m103s\u001b[0m 96ms/step - accuracy: 0.8134 - loss: 0.5890\n",
      "Epoch 45/45\n",
      "\u001b[1m1071/1071\u001b[0m \u001b[32m━━━━━━━━━━━━━━━━━━━━\u001b[0m\u001b[37m\u001b[0m \u001b[1m94s\u001b[0m 88ms/step - accuracy: 0.8180 - loss: 0.5773\n"
     ]
    },
    {
     "data": {
      "text/plain": [
       "<keras.src.callbacks.history.History at 0x30c318610>"
      ]
     },
     "execution_count": 47,
     "metadata": {},
     "output_type": "execute_result"
    }
   ],
   "source": [
    "model.fit(input_data, output_data, epochs=45, batch_size=64)\n"
   ]
  },
  {
   "cell_type": "markdown",
   "id": "ad7172c8-5178-4103-a07b-dd8dc532c029",
   "metadata": {},
   "source": [
    "# Save trained model"
   ]
  },
  {
   "cell_type": "code",
   "execution_count": 48,
   "id": "b7a32914-5a7d-47e8-9b84-2ce553167ee4",
   "metadata": {},
   "outputs": [
    {
     "name": "stderr",
     "output_type": "stream",
     "text": [
      "WARNING:absl:You are saving your model as an HDF5 file via `model.save()` or `keras.saving.save_model(model)`. This file format is considered legacy. We recommend using instead the native Keras format, e.g. `model.save('my_model.keras')` or `keras.saving.save_model(model, 'my_model.keras')`. \n"
     ]
    }
   ],
   "source": [
    "model.save('model.h5')\n",
    "\n",
    "#Save label_encoder\n",
    "with open('label_encoder.pkl', 'wb') as f:\n",
    "    pickle.dump(label_encoder, f)"
   ]
  },
  {
   "cell_type": "code",
   "execution_count": 49,
   "id": "4635d406-75b3-4126-9deb-60d615d37919",
   "metadata": {},
   "outputs": [
    {
     "name": "stderr",
     "output_type": "stream",
     "text": [
      "WARNING:absl:Compiled the loaded model, but the compiled metrics have yet to be built. `model.compile_metrics` will be empty until you train or evaluate the model.\n"
     ]
    }
   ],
   "source": [
    "import numpy as np\n",
    "from tensorflow.keras.models import load_model\n",
    "import pickle\n",
    "\n",
    "def softmax(x):\n",
    "    \"\"\"Compute softmax values for each sets of scores in x.\"\"\"\n",
    "    e_x = np.exp(x - np.max(x))\n",
    "    return e_x / e_x.sum(axis=0)\n",
    "\n",
    "def generate_notes(model, input_sequence, label_encoder, num_generate=200, temperature=1.0):\n",
    "    \"\"\" Generate a sequence of notes along with timing and dynamics information using the model \"\"\"\n",
    "    prediction_output = []\n",
    "    current_sequence = input_sequence.copy()\n",
    "\n",
    "    # Initial values for start, step and velocity (example values, adjust as needed)\n",
    "    start_time = 0\n",
    "    step = 0.5  # assuming each step or note increment is 0.5 seconds\n",
    "    duration = 0.5  # default duration of each note\n",
    "    velocity = 64  # default velocity\n",
    "\n",
    "    for _ in range(num_generate):\n",
    "        # Prepare the input shape for prediction\n",
    "        prediction_input = np.reshape(current_sequence, (1, current_sequence.shape[0], current_sequence.shape[1]))\n",
    "        prediction_logits = model.predict(prediction_input, verbose=0)\n",
    "\n",
    "        # Scale the logits by the temperature\n",
    "        prediction_scaled = prediction_logits / temperature\n",
    "\n",
    "        # Apply softmax to convert logits to probabilities\n",
    "        prediction_probs = softmax(prediction_scaled[0])\n",
    "\n",
    "        # Get the highest probability index\n",
    "        index = np.argmax(np.random.multinomial(1, prediction_probs))\n",
    "        note = label_encoder.inverse_transform([index])[0]\n",
    "        \n",
    "        # Prepare note information dictionary\n",
    "        note_info = {\n",
    "            'note': note,\n",
    "            'start_time': start_time,\n",
    "            'end_time': start_time + duration,\n",
    "            'step': step,\n",
    "            'duration': duration,\n",
    "            'velocity': velocity\n",
    "        }\n",
    "        prediction_output.append(note_info)\n",
    "\n",
    "        # Update start time for the next note\n",
    "        start_time += step\n",
    "\n",
    "        # Update the sequence\n",
    "        current_sequence = np.roll(current_sequence, -1, axis=0)\n",
    "        new_features = np.zeros_like(current_sequence[-1])\n",
    "        new_features[:len(prediction_probs)] = prediction_probs\n",
    "        current_sequence[-1] = new_features\n",
    "\n",
    "    return prediction_output\n",
    "\n",
    "# Load the model and label_encoder\n",
    "model = load_model('model.h5')\n",
    "with open('label_encoder.pkl', 'rb') as f:\n",
    "    label_encoder = pickle.load(f)\n",
    "\n",
    "# Prepare an initial sequence\n",
    "initial_sequence = np.random.uniform(size=(32, model.input_shape[-1]))\n",
    "\n",
    "# Generate notes with a specific temperature\n",
    "generated_notes = generate_notes(model, initial_sequence, label_encoder, temperature=2.5)\n",
    "\n"
   ]
  },
  {
   "cell_type": "markdown",
   "id": "4ba3084b-2286-4ade-992d-d4373b8bbe28",
   "metadata": {},
   "source": [
    "# Create midi song from generated notes"
   ]
  },
  {
   "cell_type": "code",
   "execution_count": 50,
   "id": "e5196fad-2a82-4af3-8a64-e008f12fe5c1",
   "metadata": {},
   "outputs": [],
   "source": [
    "\n",
    "from music21 import stream, note, chord, midi, instrument\n",
    "\n",
    "def create_midi(prediction_output, output_path='output.mid'):\n",
    "    \"\"\" Convert the predicted notes into a MIDI file using the structured data \"\"\"\n",
    "    output_notes = []\n",
    "\n",
    "    for note_info in prediction_output:\n",
    "        # Check if the note_info is for a chord\n",
    "        if ('.' in note_info['note']) or note_info['note'].isdigit():\n",
    "            notes_in_chord = note_info['note'].split('.')\n",
    "            notes = []\n",
    "            for current_note in notes_in_chord:\n",
    "                new_note = note.Note(int(current_note))\n",
    "                new_note.storedInstrument = instrument.Piano()\n",
    "                new_note.volume.velocity = note_info['velocity']\n",
    "                new_note.duration.quarterLength = note_info['duration']\n",
    "                notes.append(new_note)\n",
    "            new_chord = chord.Chord(notes)\n",
    "            new_chord.offset = note_info['start_time']\n",
    "            output_notes.append(new_chord)\n",
    "        else:  # It's a single note\n",
    "            new_note = note.Note(note_info['note'])\n",
    "            new_note.offset = note_info['start_time']\n",
    "            new_note.duration.quarterLength = note_info['duration']\n",
    "            new_note.volume.velocity = note_info['velocity']\n",
    "            new_note.storedInstrument = instrument.Piano()\n",
    "            output_notes.append(new_note)\n",
    "\n",
    "    # Create a Music21 stream and write to MIDI file\n",
    "    midi_stream = stream.Stream(output_notes)\n",
    "    midi_stream.write('midi', fp=output_path)\n",
    "\n",
    "# Example usage with structured note data\n",
    "create_midi(generated_notes, 'song3.mid')\n"
   ]
  },
  {
   "cell_type": "markdown",
   "id": "7f355c82-552e-4d96-a539-a7273e9884f1",
   "metadata": {},
   "source": [
    "# Get instrument"
   ]
  },
  {
   "cell_type": "code",
   "execution_count": 51,
   "id": "a791b465-060e-46d6-9b9e-918f9e633803",
   "metadata": {},
   "outputs": [],
   "source": [
    "# Attempt to retrieve the first instrument in the part\n",
    "def get_instrument_name(parts):\n",
    "    for i, part in enumerate(parts.parts, 1):\n",
    "            # Attempt to retrieve the first instrument in the part\n",
    "            inst = part.getInstrument()\n",
    "            if inst:\n",
    "                print(f\"Part {i}: {inst.instrumentName}\")\n",
    "            else:\n",
    "                print(f\"Part {i}: No specific instrument found\")"
   ]
  },
  {
   "cell_type": "markdown",
   "id": "432c778c-0371-4626-98fe-33026c1f5e9a",
   "metadata": {},
   "source": [
    "# Play a single midi song"
   ]
  },
  {
   "cell_type": "code",
   "execution_count": 52,
   "id": "cfb6627e-c501-4cfb-995b-4ec16d8c6a0a",
   "metadata": {},
   "outputs": [
    {
     "name": "stdout",
     "output_type": "stream",
     "text": [
      "Part 1: None\n"
     ]
    }
   ],
   "source": [
    "\n",
    "import pygame\n",
    "import time\n",
    "\n",
    "def play_20_seconds_midi(file_path):\n",
    "    # Load the MIDI file using music21 to analyze it\n",
    "    midi_data = converter.parse(file_path)\n",
    "    \n",
    "    # Call the function to print instrument names\n",
    "    get_instrument_name(midi_data)\n",
    "\n",
    "    # Initialize pygame mixer\n",
    "    pygame.mixer.init()\n",
    "\n",
    "    # Load the MIDI file from the specified file path into pygame mixer\n",
    "    pygame.mixer.music.load(file_path)\n",
    "    \n",
    "    # Start playing the MIDI file\n",
    "    pygame.mixer.music.play()\n",
    "    \n",
    "    # Play for 20 seconds\n",
    "    time.sleep(20)\n",
    "    \n",
    "    # Stop playback\n",
    "    pygame.mixer.music.stop()\n",
    "\n",
    "# Example of playing a MIDI file:\n",
    "play_20_seconds_midi('song3.mid')"
   ]
  },
  {
   "cell_type": "markdown",
   "id": "9d30e2ad-1472-41f4-90f0-e8c3c2f54be6",
   "metadata": {},
   "source": [
    "# Play a single midi song from input"
   ]
  },
  {
   "cell_type": "code",
   "execution_count": 53,
   "id": "78dba2dc-4b0d-4e6b-b45a-c393f11ba580",
   "metadata": {},
   "outputs": [],
   "source": [
    "# This method is used to test midi input file with instrument\n",
    "\n",
    "import pygame\n",
    "import time\n",
    "from music21 import midi, stream\n",
    "import tempfile\n",
    "\n",
    "#    Play the first 20 seconds of a MIDI stream using pygame.\n",
    "def play_20_seconds_midi_input(midi_stream):\n",
    "    # Initialize pygame mixer\n",
    "    pygame.mixer.init()\n",
    "    \n",
    "    # Create a temporary MIDI file from the music21 stream\n",
    "    with tempfile.NamedTemporaryFile(delete=True) as temp_midi:\n",
    "        # Save the stream to the temporary MIDI file\n",
    "        midi_stream.write('midi', fp=temp_midi.name)\n",
    "        \n",
    "        # Splits the stream into different parts, where each part is associated with a different instrument\n",
    "        parts = instrument.partitionByInstrument(midi_stream)\n",
    "        get_instrument_name(parts)        \n",
    "        # Load the temporary MIDI file into pygame mixer\n",
    "        pygame.mixer.music.load(temp_midi.name)\n",
    "        \n",
    "        # Start playing the MIDI file\n",
    "        pygame.mixer.music.play()\n",
    "        \n",
    "        # Play for 20 seconds\n",
    "        time.sleep(20)\n",
    "        \n",
    "        # Stop playback\n",
    "        pygame.mixer.music.stop()\n",
    "\n",
    "# Play 1st song in midi input files:\n",
    "# play_20_seconds_midi_input(midis[0])\n"
   ]
  },
  {
   "cell_type": "markdown",
   "id": "80746184-5262-4d80-aa5c-9ff8e47aab8e",
   "metadata": {},
   "source": [
    "# Display piano notes chart"
   ]
  },
  {
   "cell_type": "code",
   "execution_count": 54,
   "id": "e5dc2140-0444-4124-b4c5-679f1be4391a",
   "metadata": {},
   "outputs": [
    {
     "name": "stdout",
     "output_type": "stream",
     "text": [
      "Len of df_collections:  68532\n",
      "20 samples of df_collections: \n",
      "   notes starts  ends steps  velocities durations\n",
      "0    B-4    0.0   2.0   0.0          50       2.0\n",
      "1    B-3    0.0   2.0   0.0          40       2.0\n",
      "2     F4    2.0   3.0   2.0          45       1.0\n",
      "3     F3    2.0   3.0   0.0          36       1.0\n",
      "4     D4    3.0   5.0   1.0          50       2.0\n",
      "5     D3    3.0   5.0   0.0          40       2.0\n",
      "6     F4    5.0   6.0   2.0          48       1.0\n",
      "7     F3    5.0   6.0   0.0          38       1.0\n",
      "8    B-4    6.0   8.0   1.0          52       2.0\n",
      "9    B-3    6.0   8.0   0.0          41       2.0\n",
      "10    D5    8.0   9.0   2.0          54       1.0\n",
      "11    D4    8.0   9.0   0.0          43       1.0\n",
      "12    F5    9.0  11.0   1.0          57       2.0\n",
      "13    F4    9.0  11.0   0.0          45       2.0\n",
      "14   B-5   11.0  11.5   2.0          58       0.5\n",
      "15    D5   11.5  12.0   0.5          51       0.5\n",
      "16    F5   12.0  12.5   0.5          56       0.5\n",
      "17   E-4    0.0   1.0 -12.0          36       1.0\n",
      "18    F3    0.0   1.0   0.0          30       1.0\n",
      "19    C4    0.0   1.0   0.0          30       1.0\n"
     ]
    },
    {
     "data": {
      "image/png": "[encoded data removed]",
      "text/plain": [
       "<Figure size 2000x600 with 1 Axes>"
      ]
     },
     "metadata": {
      "image/png": {
       "height": 546,
       "width": 1622
      }
     },
     "output_type": "display_data"
    }
   ],
   "source": [
    "import pandas as pd\n",
    "import numpy as np\n",
    "import matplotlib.pyplot as plt\n",
    "from music21 import pitch\n",
    "from typing import Optional\n",
    "\n",
    "def plot_piano_roll(pitches: pd.DataFrame, count: Optional[int] = None):\n",
    "    if count:\n",
    "        title = f'First {count} notes'\n",
    "    else:\n",
    "        title = 'Whole track'\n",
    "        count = len(pitches['pitch'])\n",
    "\n",
    "    plt.figure(figsize=(20, 6))\n",
    "    # Convert pitches from note names to MIDI numbers if necessary\n",
    "\n",
    "    pitches['midi'] = pitches['notes']\n",
    "\n",
    "    # Use a scatter plot to show the start of each note\n",
    "    plt.scatter(pitches['starts'][:count], pitches['midi'][:count], color=\"r\", label=\"Note Start\")\n",
    "    # Optionally, draw lines or bars to show duration\n",
    "    for idx in range(min(count, len(pitches))):\n",
    "        plt.plot([pitches['starts'].iloc[idx], pitches['ends'].iloc[idx]], [pitches['midi'].iloc[idx], pitches['midi'].iloc[idx]], color=\"b\", marker=\"|\", markersize=10)\n",
    "\n",
    "    plt.xlabel('Time [s]')\n",
    "    plt.ylabel('Notes (MIDI)')\n",
    "    plt.title(title)\n",
    "    plt.legend()\n",
    "    plt.show()\n",
    "\n",
    "\n",
    "# Optionally convert pitch to string if they are not already\n",
    "# pitches_df = pd.DataFrame(pitches)\n",
    "df_collections['notes'] = df_collections['notes'].astype(str)\n",
    "print(\"Len of df_collections: \", len(df_collections))\n",
    "print(\"20 samples of df_collections: \")\n",
    "print(df_collections[:20])\n",
    "# Plot the piano roll\n",
    "plot_piano_roll(df_collections, count=50)  # Plot the first 50 notes\n"
   ]
  }
 ],
 "metadata": {
  "kernelspec": {
   "display_name": "Python 3 (ipykernel)",
   "language": "python",
   "name": "python3"
  },
  "language_info": {
   "codemirror_mode": {
    "name": "ipython",
    "version": 3
   },
   "file_extension": ".py",
   "mimetype": "text/x-python",
   "name": "python",
   "nbconvert_exporter": "python",
   "pygments_lexer": "ipython3",
   "version": "3.11.5"
  }
 },
 "nbformat": 4,
 "nbformat_minor": 5
}
