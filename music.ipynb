{
 "cells": [
  {
   "cell_type": "markdown",
   "id": "9e3947b1-9ed2-4ccd-b5b9-1a56a0bfbdf4",
   "metadata": {},
   "source": [
    "# Music Generator"
   ]
  },
  {
   "cell_type": "code",
   "execution_count": 1,
   "id": "45249e8b-b76d-4bc9-8040-61daf779edfb",
   "metadata": {},
   "outputs": [],
   "source": [
    "import torch\n",
    "from torch import nn\n",
    "import numpy as np\n",
    "import scipy.signal\n",
    "# from keras.utils import np_utils\n",
    "from tensorflow.keras.utils import to_categorical\n",
    "from tensorflow.keras.models import Sequential\n",
    "from tensorflow.keras.callbacks import ModelCheckpoint\n",
    "from tensorflow.keras.layers import Dense, Dropout, LSTM\n",
    "import pickle\n",
    "import glob \n",
    "%matplotlib inline\n",
    "import matplotlib.pyplot as plt\n",
    "%config InlineBackend.figure_format='retina'\n",
    "import music21\n",
    "\n",
    "# for making midi file\n",
    "import mido\n",
    "from mido import MidiFile, MidiTrack, Message"
   ]
  },
  {
   "cell_type": "code",
   "execution_count": 2,
   "id": "a33b8d48-466a-4be5-b9b4-e79d3c87f680",
   "metadata": {},
   "outputs": [
    {
     "name": "stdout",
     "output_type": "stream",
     "text": [
      "Len of notes:  0\n",
      "Notes:  []\n",
      "Len of durations:  0\n",
      "Durations:  []\n",
      "Len of velocities:  0\n",
      "Velocities:  []\n",
      "\n",
      "print 10 Notes:  []\n",
      "\n",
      "print 10 pitches:  []\n",
      "\n",
      "First 10 pitches: []\n"
     ]
    }
   ],
   "source": [
    "# Read through a directory of classical piano MIDI files, extract and print the note pitches and chord structures\n",
    "from music21 import converter, note, chord, instrument\n",
    "midis = []  # To store the parsed MIDI files\n",
    "notes = []  # To store note and chord pitches\n",
    "durations = []  # To store durations in terms of quarter notes\n",
    "velocities = []  # To store velocities\n",
    "pitches = []\n",
    "# notes_info = []\n",
    "for file in glob.glob(\"classical_piano/*.mid\"):\n",
    "    # Parses the MIDI file into a music21 stream.\n",
    "    midi = converter.parse(file)\n",
    "    midis.append(midi)\n",
    "    notes_to_parse = midi.flat.notes\n",
    "    # print(notes_to_parse)\n",
    "    for element in notes_to_parse:\n",
    "        if isinstance(element, note.Note):\n",
    "            notes.append(str(element.pitch))\n",
    "            # durations.append(element.duration.quarterLength)  # Duration in terms of quarter notes\n",
    "            duration = element.duration.quarterLength\n",
    "            durations.append(duration)\n",
    "            velocity = element.volume.velocity if element.volume.velocity is not None else \"N/A\"\n",
    "            velocities.append(velocity)\n",
    "            start = element.offset\n",
    "            end = element.offset + element.duration.quarterLength\n",
    "            # pitches.append({'pitch': str(element.pitch), 'start': start, 'end': end})\n",
    "            pitches.append({'pitch': str(element.pitch), 'start': start, 'end': end, 'duration': duration, 'velocity': velocity})\n",
    "        elif isinstance(element, chord.Chord): \n",
    "            for single_note in element.notes:  # Changed variable name to avoid conflict\n",
    "                # pitch = single_note.pitch\n",
    "                pitch= ('.'.join(str(n) for n in element.normalOrder))\n",
    "                notes.append(pitch)\n",
    "                # durations.append(single_note.duration.quarterLength)\n",
    "                duration = single_note.duration.quarterLength\n",
    "                durations.append(duration)\n",
    "                velocity = single_note.volume.velocity if single_note.volume.velocity is not None else \"N/A\"\n",
    "                velocities.append(velocity)\n",
    "                start = single_note.offset\n",
    "                end = single_note.offset + single_note.duration.quarterLength\n",
    "                # pitches.append({'pitch': pitch, 'start': start, 'end': end})\n",
    "                pitches.append({'pitch': pitch, 'start': start, 'end': end, 'duration': duration, 'velocity': velocity})\n",
    "                \n",
    "\n",
    "print(\"Len of notes: \", len(notes))\n",
    "print(\"Notes: \", notes[:10])\n",
    "print(\"Len of durations: \", len(durations))\n",
    "print(\"Durations: \", durations[:10])\n",
    "print(\"Len of velocities: \", len(velocities))\n",
    "print(\"Velocities: \", velocities[:10])\n",
    "\n",
    "\n",
    "# This is just a check to see some of the extracted notes\n",
    "print(\"\\nprint 10 Notes: \", notes[:10])\n",
    "print(\"\\nprint 10 pitches: \", pitches[:10])\n",
    "\n",
    "# Extracting only the 'pitch' values using a list comprehension\n",
    "pitch_list = [note['pitch'] for note in pitches]\n",
    "\n",
    "# Printing the first 10 'pitch' values\n",
    "print(\"\\nFirst 10 pitches:\", pitch_list[:10])"
   ]
  },
  {
   "cell_type": "code",
   "execution_count": null,
   "id": "cbaa3fd1-5722-4a14-b99b-517a77a6054a",
   "metadata": {},
   "outputs": [],
   "source": []
  }
 ],
 "metadata": {
  "kernelspec": {
   "display_name": "Python 3 (ipykernel)",
   "language": "python",
   "name": "python3"
  },
  "language_info": {
   "codemirror_mode": {
    "name": "ipython",
    "version": 3
   },
   "file_extension": ".py",
   "mimetype": "text/x-python",
   "name": "python",
   "nbconvert_exporter": "python",
   "pygments_lexer": "ipython3",
   "version": "3.11.5"
  }
 },
 "nbformat": 4,
 "nbformat_minor": 5
}
