{
 "cells": [
  {
   "cell_type": "markdown",
   "id": "9e3947b1-9ed2-4ccd-b5b9-1a56a0bfbdf4",
   "metadata": {},
   "source": [
    "# Music Generator"
   ]
  },
  {
   "cell_type": "code",
   "execution_count": 115,
   "id": "45249e8b-b76d-4bc9-8040-61daf779edfb",
   "metadata": {},
   "outputs": [],
   "source": [
    "import torch\n",
    "from torch import nn\n",
    "import numpy as np\n",
    "import scipy.signal\n",
    "# from keras.utils import np_utils\n",
    "from tensorflow.keras.utils import to_categorical\n",
    "from tensorflow.keras.models import Sequential\n",
    "from tensorflow.keras.callbacks import ModelCheckpoint\n",
    "from tensorflow.keras.layers import Dense, Dropout, LSTM, BatchNormalization, Activation\n",
    "import pickle\n",
    "import glob \n",
    "%matplotlib inline\n",
    "import matplotlib.pyplot as plt\n",
    "%config InlineBackend.figure_format='retina'\n",
    "import music21\n",
    "\n",
    "# for making midi file\n",
    "import mido\n",
    "from mido import MidiFile, MidiTrack, Message"
   ]
  },
  {
   "cell_type": "code",
   "execution_count": 116,
   "id": "a33b8d48-466a-4be5-b9b4-e79d3c87f680",
   "metadata": {},
   "outputs": [
    {
     "name": "stdout",
     "output_type": "stream",
     "text": [
      "len: 45976\n",
      "['F3', 'F3', 'B-4', 'F3', 'G4', 'G#4', 'F4', 'F3', 'G4', 'G3', 'E-4', 'G#3', 'F3', 'F5', 'G5', 'G#5', 'F3', 'B-5', 'G5', 'G#5', 'F3', 'B-5', 'C6', 'B-5', 'F3', 'E-6', 'C#4', 'F6', 'C4', 'F3', 'F3', 'B-4', 'F3', 'G4', 'G#4', 'F4', 'F3', 'G4', 'G3', 'E-4', 'G#3', 'F3', 'F5', 'G5', 'G#5', 'F3', 'B-5', 'G5', 'G#5', 'F3']\n"
     ]
    }
   ],
   "source": [
    "from music21 import converter, instrument, note, chord\n",
    "notes = []\n",
    "for file in glob.glob(\"midi_songs/*.mid\"):\n",
    "    midi = converter.parse(file)\n",
    "    notes_to_parse = None\n",
    "    parts = instrument.partitionByInstrument(midi)\n",
    "    if parts: # file has instrument parts\n",
    "        notes_to_parse = parts.parts[0].recurse()\n",
    "    else: # file has notes in a flat structure\n",
    "        notes_to_parse = midi.flat.notes\n",
    "    for element in notes_to_parse:\n",
    "        if isinstance(element, note.Note):\n",
    "            notes.append(str(element.pitch))\n",
    "        elif isinstance(element, chord.Chord):\n",
    "            notes.append('.'.join(str(n) for n in element.normalOrder))\n",
    "\n",
    "print(\"len:\", len(notes))\n",
    "print(notes[:50])"
   ]
  },
  {
   "cell_type": "code",
   "execution_count": 117,
   "id": "cbaa3fd1-5722-4a14-b99b-517a77a6054a",
   "metadata": {},
   "outputs": [
    {
     "name": "stderr",
     "output_type": "stream",
     "text": [
      "IOPub data rate exceeded.\n",
      "The Jupyter server will temporarily stop sending output\n",
      "to the client in order to avoid crashing it.\n",
      "To change this limit, set the config variable\n",
      "`--ServerApp.iopub_data_rate_limit`.\n",
      "\n",
      "Current values:\n",
      "ServerApp.iopub_data_rate_limit=1000000.0 (bytes/sec)\n",
      "ServerApp.rate_limit_window=3.0 (secs)\n",
      "\n"
     ]
    },
    {
     "name": "stdout",
     "output_type": "stream",
     "text": [
      "network_input:  [[[0.95092025]\n",
      "  [0.95092025]\n",
      "  [0.8006135 ]\n",
      "  ...\n",
      "  [0.99386503]\n",
      "  [0.97546012]\n",
      "  [0.95092025]]\n",
      "\n",
      " [[0.95092025]\n",
      "  [0.8006135 ]\n",
      "  [0.95092025]\n",
      "  ...\n",
      "  [0.97546012]\n",
      "  [0.95092025]\n",
      "  [0.80368098]]\n",
      "\n",
      " [[0.8006135 ]\n",
      "  [0.95092025]\n",
      "  [0.99079755]\n",
      "  ...\n",
      "  [0.95092025]\n",
      "  [0.80368098]\n",
      "  [0.86196319]]\n",
      "\n",
      " ...\n",
      "\n",
      " [[0.47546012]\n",
      "  [0.79447853]\n",
      "  [0.89570552]\n",
      "  ...\n",
      "  [0.33128834]\n",
      "  [0.86196319]\n",
      "  [0.94785276]]\n",
      "\n",
      " [[0.79447853]\n",
      "  [0.89570552]\n",
      "  [0.85276074]\n",
      "  ...\n",
      "  [0.86196319]\n",
      "  [0.94785276]\n",
      "  [0.33128834]]\n",
      "\n",
      " [[0.89570552]\n",
      "  [0.85276074]\n",
      "  [0.94785276]\n",
      "  ...\n",
      "  [0.94785276]\n",
      "  [0.33128834]\n",
      "  [0.86196319]]] shape:  (45926, 50, 1)\n",
      "network_output:  [[0. 0. 0. ... 0. 0. 0.]\n",
      " [0. 0. 0. ... 0. 0. 0.]\n",
      " [0. 0. 0. ... 0. 0. 0.]\n",
      " ...\n",
      " [0. 0. 0. ... 0. 0. 0.]\n",
      " [0. 0. 0. ... 0. 0. 0.]\n",
      " [0. 0. 0. ... 0. 0. 0.]] shape:  (45926, 326)\n"
     ]
    }
   ],
   "source": [
    "sequence_length = 50\n",
    "# get all pitch names\n",
    "pitchnames = sorted(set(item for item in notes))\n",
    "# create a dictionary to map pitches to integers\n",
    "note_to_int = dict((note, number) for number, note in enumerate(pitchnames))\n",
    "network_input = []\n",
    "network_output = []\n",
    "# create input sequences and the corresponding outputs\n",
    "for i in range(0, len(notes) - sequence_length, 1):\n",
    "    sequence_in = notes[i:i + sequence_length]\n",
    "    # print(\"in: \", sequence_in)\n",
    "    sequence_out = notes[i + sequence_length]\n",
    "    # print(\"out: \", sequence_out)\n",
    "    network_input.append([note_to_int[char] for char in sequence_in])\n",
    "    network_output.append(note_to_int[sequence_out])\n",
    "    print(\"network_output: \", network_output)\n",
    "n_patterns = len(network_input)\n",
    "# reshape the input into a format compatible with LSTM layers\n",
    "network_input = np.reshape(network_input, (n_patterns, sequence_length, 1))\n",
    "# normalize input\n",
    "network_input = network_input / float(len(pitchnames))\n",
    "network_output = to_categorical(network_output, num_classes=len(pitchnames))\n",
    "\n",
    "\n",
    "print(\"network_input: \", network_input, \"shape: \", network_input.shape)\n",
    "\n",
    "print(\"network_output: \", network_output, \"shape: \", network_output.shape)"
   ]
  },
  {
   "cell_type": "code",
   "execution_count": null,
   "id": "aa694043-2b89-44df-ac68-9c61ccd0466c",
   "metadata": {},
   "outputs": [],
   "source": []
  },
  {
   "cell_type": "code",
   "execution_count": 118,
   "id": "700cb920-660c-400c-8043-6647629e35ef",
   "metadata": {},
   "outputs": [
    {
     "name": "stdout",
     "output_type": "stream",
     "text": [
      "model:  <Sequential name=sequential_14, built=True>\n"
     ]
    }
   ],
   "source": [
    "def create_network(network_input, n_vocab):\n",
    "    \"\"\" create the structure of the neural network \"\"\"\n",
    "    model = Sequential()\n",
    "    model.add(LSTM(\n",
    "        512,\n",
    "        input_shape=(network_input.shape[1], network_input.shape[2]),\n",
    "        recurrent_dropout=0.3,\n",
    "        return_sequences=True\n",
    "    ))\n",
    "    model.add(LSTM(512, return_sequences=True, recurrent_dropout=0.3,))\n",
    "    model.add(LSTM(512))\n",
    "    model.add(BatchNormalization())\n",
    "    model.add(Dropout(0.3))\n",
    "    model.add(Dense(256))\n",
    "    model.add(Activation('relu'))\n",
    "    model.add(BatchNormalization())\n",
    "    model.add(Dropout(0.3))\n",
    "    model.add(Dense(n_vocab, activation='softmax'))  # Ensure this matches the number of unique notes\n",
    "    model.add(Activation('softmax'))\n",
    "    model.compile(loss='categorical_crossentropy', optimizer='rmsprop')\n",
    "\n",
    "    # Load the weights to each node\n",
    "    # model.load_weights('weights.hdf5')\n",
    "\n",
    "    return model\n",
    "\n",
    "n_vocab = len(network_input)\n",
    "model = create_network(network_input, n_vocab)\n",
    "print(\"model: \", model)"
   ]
  },
  {
   "cell_type": "code",
   "execution_count": 125,
   "id": "bfd82bc1-113d-4510-9153-fc4e028c6e8c",
   "metadata": {},
   "outputs": [
    {
     "name": "stdout",
     "output_type": "stream",
     "text": [
      "500\n",
      "['0', '0', '0', '0', '0', '0', '0', '0', '0', '0', '0', '0', '0', '0', '0', '0', '0', '0', '0', '0', '0', '0', '0', '0', '0', '0', '0', '0', '0', '0', '0', '0', '0', '0', '0', '0', '0', '0', '0', '0', '0', '0', '0', '0', '0', '0', '0', '0', '0', '0', '0', '0', '0', '0', '0', '0', '0', '0', '0', '0', '0', '0', '0', '0', '0', '0', '0', '0', '0', '0', '0', '0', '0', '0', '0', '0', '0', '0', '0', '0', '0', '0', '0', '0', '0', '0', '0', '0', '0', '0', '0', '0', '0', '0', '0', '0', '0', '0', '0', '0', '0', '0', '0', '0', '0', '0', '0', '0', '0', '0', '0', '0', '0', '0', '0', '0', '0', '0', '0', '0', '0', '0', '0', '0', '0', '0', '0', '0', '0', '0', '0', '0', '0', '0', '0', '0', '0', '0', '0', '0', '0', '0', '0', '0', '0', '0', '0', '0', '0', '0', '0', '0', '0', '0', '0', '0', '0', '0', '0', '0', '0', '0', '0', '0', '0', '0', '0', '0', '0', '0', '0', '0', '0', '0', '0', '0', '0', '0', '0', '0', '0', '0', '0', '0', '0', '0', '0', '0', '0', '0', '0', '0', '0', '0', '0', '0', '0', '0', '0', '0', '0', '0', '0', '0', '0', '0', '0', '0', '0', '0', '0', '0', '0', '0', '0', '0', '0', '0', '0', '0', '0', '0', '0', '0', '0', '0', '0', '0', '0', '0', '0', '0', '0', '0', '0', '0', '0', '0', '0', '0', '0', '0', '0', '0', '0', '0', '0', '0', '0', '0', '0', '0', '0', '0', '0', '0', '0', '0', '0', '0', '0', '0', '0', '0', '0', '0', '0', '0', '0', '0', '0', '0', '0', '0', '0', '0', '0', '0', '0', '0', '0', '0', '0', '0', '0', '0', '0', '0', '0', '0', '0', '0', '0', '0', '0', '0', '0', '0', '0', '0', '0', '0', '0', '0', '0', '0', '0', '0', '0', '0', '0', '0', '0', '0', '0', '0', '0', '0', '0', '0', '0', '0', '0', '0', '0', '0', '0', '0', '0', '0', '0', '0', '0', '0', '0', '0', '0', '0', '0', '0', '0', '0', '0', '0', '0', '0', '0', '0', '0', '0', '0', '0', '0', '0', '0', '0', '0', '0', '0', '0', '0', '0', '0', '0', '0', '0', '0', '0', '0', '0', '0', '0', '0', '0', '0', '0', '0', '0', '0', '0', '0', '0', '0', '0', '0', '0', '0', '0', '0', '0', '0', '0', '0', '0', '0', '0', '0', '0', '0', '0', '0', '0', '0', '0', '0', '0', '0', '0', '0', '0', '0', '0', '0', '0', '0', '0', '0', '0', '0', '0', '0', '0', '0', '0', '0', '0', '0', '0', '0', '0', '0', '0', '0', '0', '0', '0', '0', '0', '0', '0', '0', '0', '0', '0', '0', '0', '0', '0', '0', '0', '0', '0', '0', '0', '0', '0', '0', '0', '0', '0', '0', '0', '0', '0', '0', '0', '0', '0', '0', '0', '0', '0', '0', '0', '0', '0', '0', '0', '0', '0', '0', '0', '0', '0', '0', '0', '0', '0', '0', '0', '0', '0', '0', '0', '0', '0', '0', '0', '0', '0']\n"
     ]
    }
   ],
   "source": [
    "import numpy as np\n",
    "\n",
    "def generate_notes(model, network_input, pitchnames, n_vocab):\n",
    "    \"\"\"Generate notes from the neural network based on a sequence of notes\"\"\"\n",
    "    start = np.random.randint(0, len(network_input)-1)\n",
    "    int_to_note = dict((number, note) for number, note in enumerate(pitchnames))\n",
    "\n",
    "    # Make sure to copy the initial pattern to avoid altering the original input\n",
    "    pattern = list(network_input[start].flatten())  # Flatten and convert to list to ensure it is mutable and 1D\n",
    "    prediction_output = []\n",
    "\n",
    "    # Generate 500 notes\n",
    "    for note_index in range(500):\n",
    "        # Ensure the pattern is a 2D array with shape (1, length of pattern, 1)\n",
    "        prediction_input = np.reshape(pattern, (1, len(pattern), 1))\n",
    "        prediction_input = prediction_input / float(n_vocab)\n",
    "\n",
    "        prediction = model.predict(prediction_input, verbose=0)\n",
    "        index = np.argmax(prediction)\n",
    "        result = int_to_note[index]\n",
    "        prediction_output.append(result)\n",
    "\n",
    "        # Append the predicted index and ensure the list is kept to the same length\n",
    "        pattern.append(index)\n",
    "        pattern = pattern[1:]  # Slide the window of the pattern\n",
    "\n",
    "    return prediction_output\n",
    "\n",
    "# Example usage, assuming model, network_input, pitchnames, n_vocab are defined and initialized correctly\n",
    "prediction_output = generate_notes(model, network_input, pitchnames, n_vocab)\n",
    "print(len(prediction_output))\n",
    "print(prediction_output)\n"
   ]
  },
  {
   "cell_type": "code",
   "execution_count": 126,
   "id": "6c211536-42b9-4ece-ae8d-048f963b95d0",
   "metadata": {},
   "outputs": [],
   "source": [
    "def prepare_sequences(notes, pitchnames, n_vocab):\n",
    "    \"\"\" Prepare the sequences used by the Neural Network \"\"\"\n",
    "    # map between notes and integers and back\n",
    "    note_to_int = dict((note, number) for number, note in enumerate(pitchnames))\n",
    "\n",
    "    sequence_length = 100\n",
    "    network_input = []\n",
    "    output = []\n",
    "    for i in range(0, len(notes) - sequence_length, 1):\n",
    "        sequence_in = notes[i:i + sequence_length]\n",
    "        sequence_out = notes[i + sequence_length]\n",
    "        network_input.append([note_to_int[char] for char in sequence_in])\n",
    "        output.append(note_to_int[sequence_out])\n",
    "\n",
    "    n_patterns = len(network_input)\n",
    "\n",
    "    # reshape the input into a format compatible with LSTM layers\n",
    "    normalized_input = numpy.reshape(network_input, (n_patterns, sequence_length, 1))\n",
    "    # normalize input\n",
    "    normalized_input = normalized_input / float(n_vocab)\n",
    "\n",
    "    return (network_input, normalized_input)\n"
   ]
  },
  {
   "cell_type": "code",
   "execution_count": 127,
   "id": "9a5e410c-2cfa-4bc0-9315-f30a2d3d622f",
   "metadata": {},
   "outputs": [],
   "source": [
    "from music21 import stream, note\n",
    "\n",
    "\n",
    "def create_midi(prediction_output):\n",
    "    \"\"\" convert the output from the prediction to notes and create a midi file\n",
    "        from the notes \"\"\"\n",
    "    offset = 0\n",
    "    output_notes = []\n",
    "\n",
    "    # create note and chord objects based on the values generated by the model\n",
    "    for pattern in prediction_output:\n",
    "        # pattern is a chord\n",
    "        if ('.' in pattern) or pattern.isdigit():\n",
    "            notes_in_chord = pattern.split('.')\n",
    "            notes = []\n",
    "            for current_note in notes_in_chord:\n",
    "                new_note = note.Note(int(current_note))\n",
    "                new_note.storedInstrument = instrument.Piano()\n",
    "                notes.append(new_note)\n",
    "            new_chord = chord.Chord(notes)\n",
    "            new_chord.offset = offset\n",
    "            output_notes.append(new_chord)\n",
    "        # pattern is a note\n",
    "        else:\n",
    "            new_note = note.Note(pattern)\n",
    "            new_note.offset = offset\n",
    "            new_note.storedInstrument = instrument.Piano()\n",
    "            output_notes.append(new_note)\n",
    "\n",
    "        # increase offset each iteration so that notes do not stack\n",
    "        offset += 0.5\n",
    "\n",
    "    midi_stream = stream.Stream(output_notes)\n",
    "\n",
    "    midi_stream.write('midi', fp='test_output.mid')"
   ]
  },
  {
   "cell_type": "code",
   "execution_count": 128,
   "id": "42969a3c-058d-455f-a9cd-971a980f64ae",
   "metadata": {},
   "outputs": [],
   "source": [
    "  create_midi(prediction_output)"
   ]
  },
  {
   "cell_type": "code",
   "execution_count": null,
   "id": "8ac13cc0-1832-4061-9dfb-169b1e5cded1",
   "metadata": {},
   "outputs": [],
   "source": []
  }
 ],
 "metadata": {
  "kernelspec": {
   "display_name": "Python 3 (ipykernel)",
   "language": "python",
   "name": "python3"
  },
  "language_info": {
   "codemirror_mode": {
    "name": "ipython",
    "version": 3
   },
   "file_extension": ".py",
   "mimetype": "text/x-python",
   "name": "python",
   "nbconvert_exporter": "python",
   "pygments_lexer": "ipython3",
   "version": "3.11.5"
  }
 },
 "nbformat": 4,
 "nbformat_minor": 5
}
